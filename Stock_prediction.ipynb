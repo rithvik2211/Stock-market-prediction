{
  "nbformat": 4,
  "nbformat_minor": 0,
  "metadata": {
    "colab": {
      "provenance": [],
      "gpuType": "T4",
      "include_colab_link": true
    },
    "kernelspec": {
      "name": "python3",
      "display_name": "Python 3"
    },
    "language_info": {
      "name": "python"
    },
    "accelerator": "GPU"
  },
  "cells": [
    {
      "cell_type": "markdown",
      "metadata": {
        "id": "view-in-github",
        "colab_type": "text"
      },
      "source": [
        "<a href=\"https://colab.research.google.com/github/rithvik2211/Stock-market-prediction/blob/main/Stock_prediction.ipynb\" target=\"_parent\"><img src=\"https://colab.research.google.com/assets/colab-badge.svg\" alt=\"Open In Colab\"/></a>"
      ]
    },
    {
      "cell_type": "code",
      "execution_count": null,
      "metadata": {
        "id": "pSc9-GPnncn9"
      },
      "outputs": [],
      "source": [
        " from google.colab import drive\n",
        "drive.mount('/content/drive')"
      ]
    },
    {
      "cell_type": "code",
      "source": [
        "from google.colab import userdata\n",
        "key = userdata.get('tingokey')"
      ],
      "metadata": {
        "id": "f3NT0N2frBp4"
      },
      "execution_count": 91,
      "outputs": []
    },
    {
      "cell_type": "code",
      "source": [
        "!pip install pandas-datareader\n"
      ],
      "metadata": {
        "id": "6DEQS-Ojn4R2"
      },
      "execution_count": null,
      "outputs": []
    },
    {
      "cell_type": "code",
      "source": [
        "import pandas_datareader as pdr\n",
        "import pandas as pd\n",
        "import matplotlib.pyplot as plt\n"
      ],
      "metadata": {
        "id": "8lkF8vbhoXVx"
      },
      "execution_count": 92,
      "outputs": []
    },
    {
      "cell_type": "code",
      "source": [
        "df = pdr.get_data_tiingo('AAPL', api_key = key)#UAA"
      ],
      "metadata": {
        "id": "olZ33dWpqxT1",
        "colab": {
          "base_uri": "https://localhost:8080/"
        },
        "outputId": "179ee6cf-fae6-4b31-928f-32ad6144000f"
      },
      "execution_count": 95,
      "outputs": [
        {
          "output_type": "stream",
          "name": "stderr",
          "text": [
            "<ipython-input-95-2fe328918ade>:1: FutureWarning: In a future version of pandas all arguments of concat except for the argument 'objs' will be keyword-only.\n",
            "  df = pdr.get_data_tiingo('AAPL', api_key = key)#UAA\n"
          ]
        }
      ]
    },
    {
      "cell_type": "code",
      "source": [
        "df.head()"
      ],
      "metadata": {
        "id": "0Q7803ypqxWB",
        "colab": {
          "base_uri": "https://localhost:8080/",
          "height": 237
        },
        "outputId": "23ca6cc2-c4b1-4a71-f42d-429f65ec0c85"
      },
      "execution_count": 96,
      "outputs": [
        {
          "output_type": "execute_result",
          "data": {
            "text/plain": [
              "                                   close    high     low    open    volume  \\\n",
              "symbol date                                                                  \n",
              "AAPL   2018-12-13 00:00:00+00:00  170.95  172.57  169.55  170.49  31897827   \n",
              "       2018-12-14 00:00:00+00:00  165.48  169.08  165.28  169.00  40703710   \n",
              "       2018-12-17 00:00:00+00:00  163.94  168.35  162.73  165.45  44287922   \n",
              "       2018-12-18 00:00:00+00:00  166.07  167.53  164.39  165.38  33841518   \n",
              "       2018-12-19 00:00:00+00:00  160.89  167.45  159.09  166.00  49047297   \n",
              "\n",
              "                                   adjClose    adjHigh     adjLow    adjOpen  \\\n",
              "symbol date                                                                    \n",
              "AAPL   2018-12-13 00:00:00+00:00  41.018629  41.407341  40.682706  40.908255   \n",
              "       2018-12-14 00:00:00+00:00  39.706129  40.569932  39.658140  40.550736   \n",
              "       2018-12-17 00:00:00+00:00  39.336614  40.394772  39.046280  39.698931   \n",
              "       2018-12-18 00:00:00+00:00  39.847697  40.198017  39.444589  39.682135   \n",
              "       2018-12-19 00:00:00+00:00  38.604781  40.178821  38.172880  39.830901   \n",
              "\n",
              "                                  adjVolume  divCash  splitFactor  \n",
              "symbol date                                                        \n",
              "AAPL   2018-12-13 00:00:00+00:00  127591308      0.0          1.0  \n",
              "       2018-12-14 00:00:00+00:00  162814840      0.0          1.0  \n",
              "       2018-12-17 00:00:00+00:00  177151688      0.0          1.0  \n",
              "       2018-12-18 00:00:00+00:00  135366072      0.0          1.0  \n",
              "       2018-12-19 00:00:00+00:00  196189188      0.0          1.0  "
            ],
            "text/html": [
              "\n",
              "  <div id=\"df-fa95b64a-c786-435c-84ba-57c333f299ee\" class=\"colab-df-container\">\n",
              "    <div>\n",
              "<style scoped>\n",
              "    .dataframe tbody tr th:only-of-type {\n",
              "        vertical-align: middle;\n",
              "    }\n",
              "\n",
              "    .dataframe tbody tr th {\n",
              "        vertical-align: top;\n",
              "    }\n",
              "\n",
              "    .dataframe thead th {\n",
              "        text-align: right;\n",
              "    }\n",
              "</style>\n",
              "<table border=\"1\" class=\"dataframe\">\n",
              "  <thead>\n",
              "    <tr style=\"text-align: right;\">\n",
              "      <th></th>\n",
              "      <th></th>\n",
              "      <th>close</th>\n",
              "      <th>high</th>\n",
              "      <th>low</th>\n",
              "      <th>open</th>\n",
              "      <th>volume</th>\n",
              "      <th>adjClose</th>\n",
              "      <th>adjHigh</th>\n",
              "      <th>adjLow</th>\n",
              "      <th>adjOpen</th>\n",
              "      <th>adjVolume</th>\n",
              "      <th>divCash</th>\n",
              "      <th>splitFactor</th>\n",
              "    </tr>\n",
              "    <tr>\n",
              "      <th>symbol</th>\n",
              "      <th>date</th>\n",
              "      <th></th>\n",
              "      <th></th>\n",
              "      <th></th>\n",
              "      <th></th>\n",
              "      <th></th>\n",
              "      <th></th>\n",
              "      <th></th>\n",
              "      <th></th>\n",
              "      <th></th>\n",
              "      <th></th>\n",
              "      <th></th>\n",
              "      <th></th>\n",
              "    </tr>\n",
              "  </thead>\n",
              "  <tbody>\n",
              "    <tr>\n",
              "      <th rowspan=\"5\" valign=\"top\">AAPL</th>\n",
              "      <th>2018-12-13 00:00:00+00:00</th>\n",
              "      <td>170.95</td>\n",
              "      <td>172.57</td>\n",
              "      <td>169.55</td>\n",
              "      <td>170.49</td>\n",
              "      <td>31897827</td>\n",
              "      <td>41.018629</td>\n",
              "      <td>41.407341</td>\n",
              "      <td>40.682706</td>\n",
              "      <td>40.908255</td>\n",
              "      <td>127591308</td>\n",
              "      <td>0.0</td>\n",
              "      <td>1.0</td>\n",
              "    </tr>\n",
              "    <tr>\n",
              "      <th>2018-12-14 00:00:00+00:00</th>\n",
              "      <td>165.48</td>\n",
              "      <td>169.08</td>\n",
              "      <td>165.28</td>\n",
              "      <td>169.00</td>\n",
              "      <td>40703710</td>\n",
              "      <td>39.706129</td>\n",
              "      <td>40.569932</td>\n",
              "      <td>39.658140</td>\n",
              "      <td>40.550736</td>\n",
              "      <td>162814840</td>\n",
              "      <td>0.0</td>\n",
              "      <td>1.0</td>\n",
              "    </tr>\n",
              "    <tr>\n",
              "      <th>2018-12-17 00:00:00+00:00</th>\n",
              "      <td>163.94</td>\n",
              "      <td>168.35</td>\n",
              "      <td>162.73</td>\n",
              "      <td>165.45</td>\n",
              "      <td>44287922</td>\n",
              "      <td>39.336614</td>\n",
              "      <td>40.394772</td>\n",
              "      <td>39.046280</td>\n",
              "      <td>39.698931</td>\n",
              "      <td>177151688</td>\n",
              "      <td>0.0</td>\n",
              "      <td>1.0</td>\n",
              "    </tr>\n",
              "    <tr>\n",
              "      <th>2018-12-18 00:00:00+00:00</th>\n",
              "      <td>166.07</td>\n",
              "      <td>167.53</td>\n",
              "      <td>164.39</td>\n",
              "      <td>165.38</td>\n",
              "      <td>33841518</td>\n",
              "      <td>39.847697</td>\n",
              "      <td>40.198017</td>\n",
              "      <td>39.444589</td>\n",
              "      <td>39.682135</td>\n",
              "      <td>135366072</td>\n",
              "      <td>0.0</td>\n",
              "      <td>1.0</td>\n",
              "    </tr>\n",
              "    <tr>\n",
              "      <th>2018-12-19 00:00:00+00:00</th>\n",
              "      <td>160.89</td>\n",
              "      <td>167.45</td>\n",
              "      <td>159.09</td>\n",
              "      <td>166.00</td>\n",
              "      <td>49047297</td>\n",
              "      <td>38.604781</td>\n",
              "      <td>40.178821</td>\n",
              "      <td>38.172880</td>\n",
              "      <td>39.830901</td>\n",
              "      <td>196189188</td>\n",
              "      <td>0.0</td>\n",
              "      <td>1.0</td>\n",
              "    </tr>\n",
              "  </tbody>\n",
              "</table>\n",
              "</div>\n",
              "    <div class=\"colab-df-buttons\">\n",
              "\n",
              "  <div class=\"colab-df-container\">\n",
              "    <button class=\"colab-df-convert\" onclick=\"convertToInteractive('df-fa95b64a-c786-435c-84ba-57c333f299ee')\"\n",
              "            title=\"Convert this dataframe to an interactive table.\"\n",
              "            style=\"display:none;\">\n",
              "\n",
              "  <svg xmlns=\"http://www.w3.org/2000/svg\" height=\"24px\" viewBox=\"0 -960 960 960\">\n",
              "    <path d=\"M120-120v-720h720v720H120Zm60-500h600v-160H180v160Zm220 220h160v-160H400v160Zm0 220h160v-160H400v160ZM180-400h160v-160H180v160Zm440 0h160v-160H620v160ZM180-180h160v-160H180v160Zm440 0h160v-160H620v160Z\"/>\n",
              "  </svg>\n",
              "    </button>\n",
              "\n",
              "  <style>\n",
              "    .colab-df-container {\n",
              "      display:flex;\n",
              "      gap: 12px;\n",
              "    }\n",
              "\n",
              "    .colab-df-convert {\n",
              "      background-color: #E8F0FE;\n",
              "      border: none;\n",
              "      border-radius: 50%;\n",
              "      cursor: pointer;\n",
              "      display: none;\n",
              "      fill: #1967D2;\n",
              "      height: 32px;\n",
              "      padding: 0 0 0 0;\n",
              "      width: 32px;\n",
              "    }\n",
              "\n",
              "    .colab-df-convert:hover {\n",
              "      background-color: #E2EBFA;\n",
              "      box-shadow: 0px 1px 2px rgba(60, 64, 67, 0.3), 0px 1px 3px 1px rgba(60, 64, 67, 0.15);\n",
              "      fill: #174EA6;\n",
              "    }\n",
              "\n",
              "    .colab-df-buttons div {\n",
              "      margin-bottom: 4px;\n",
              "    }\n",
              "\n",
              "    [theme=dark] .colab-df-convert {\n",
              "      background-color: #3B4455;\n",
              "      fill: #D2E3FC;\n",
              "    }\n",
              "\n",
              "    [theme=dark] .colab-df-convert:hover {\n",
              "      background-color: #434B5C;\n",
              "      box-shadow: 0px 1px 3px 1px rgba(0, 0, 0, 0.15);\n",
              "      filter: drop-shadow(0px 1px 2px rgba(0, 0, 0, 0.3));\n",
              "      fill: #FFFFFF;\n",
              "    }\n",
              "  </style>\n",
              "\n",
              "    <script>\n",
              "      const buttonEl =\n",
              "        document.querySelector('#df-fa95b64a-c786-435c-84ba-57c333f299ee button.colab-df-convert');\n",
              "      buttonEl.style.display =\n",
              "        google.colab.kernel.accessAllowed ? 'block' : 'none';\n",
              "\n",
              "      async function convertToInteractive(key) {\n",
              "        const element = document.querySelector('#df-fa95b64a-c786-435c-84ba-57c333f299ee');\n",
              "        const dataTable =\n",
              "          await google.colab.kernel.invokeFunction('convertToInteractive',\n",
              "                                                    [key], {});\n",
              "        if (!dataTable) return;\n",
              "\n",
              "        const docLinkHtml = 'Like what you see? Visit the ' +\n",
              "          '<a target=\"_blank\" href=https://colab.research.google.com/notebooks/data_table.ipynb>data table notebook</a>'\n",
              "          + ' to learn more about interactive tables.';\n",
              "        element.innerHTML = '';\n",
              "        dataTable['output_type'] = 'display_data';\n",
              "        await google.colab.output.renderOutput(dataTable, element);\n",
              "        const docLink = document.createElement('div');\n",
              "        docLink.innerHTML = docLinkHtml;\n",
              "        element.appendChild(docLink);\n",
              "      }\n",
              "    </script>\n",
              "  </div>\n",
              "\n",
              "\n",
              "<div id=\"df-3fa5f786-6eb7-42b2-82ca-dd0b45617b87\">\n",
              "  <button class=\"colab-df-quickchart\" onclick=\"quickchart('df-3fa5f786-6eb7-42b2-82ca-dd0b45617b87')\"\n",
              "            title=\"Suggest charts\"\n",
              "            style=\"display:none;\">\n",
              "\n",
              "<svg xmlns=\"http://www.w3.org/2000/svg\" height=\"24px\"viewBox=\"0 0 24 24\"\n",
              "     width=\"24px\">\n",
              "    <g>\n",
              "        <path d=\"M19 3H5c-1.1 0-2 .9-2 2v14c0 1.1.9 2 2 2h14c1.1 0 2-.9 2-2V5c0-1.1-.9-2-2-2zM9 17H7v-7h2v7zm4 0h-2V7h2v10zm4 0h-2v-4h2v4z\"/>\n",
              "    </g>\n",
              "</svg>\n",
              "  </button>\n",
              "\n",
              "<style>\n",
              "  .colab-df-quickchart {\n",
              "      --bg-color: #E8F0FE;\n",
              "      --fill-color: #1967D2;\n",
              "      --hover-bg-color: #E2EBFA;\n",
              "      --hover-fill-color: #174EA6;\n",
              "      --disabled-fill-color: #AAA;\n",
              "      --disabled-bg-color: #DDD;\n",
              "  }\n",
              "\n",
              "  [theme=dark] .colab-df-quickchart {\n",
              "      --bg-color: #3B4455;\n",
              "      --fill-color: #D2E3FC;\n",
              "      --hover-bg-color: #434B5C;\n",
              "      --hover-fill-color: #FFFFFF;\n",
              "      --disabled-bg-color: #3B4455;\n",
              "      --disabled-fill-color: #666;\n",
              "  }\n",
              "\n",
              "  .colab-df-quickchart {\n",
              "    background-color: var(--bg-color);\n",
              "    border: none;\n",
              "    border-radius: 50%;\n",
              "    cursor: pointer;\n",
              "    display: none;\n",
              "    fill: var(--fill-color);\n",
              "    height: 32px;\n",
              "    padding: 0;\n",
              "    width: 32px;\n",
              "  }\n",
              "\n",
              "  .colab-df-quickchart:hover {\n",
              "    background-color: var(--hover-bg-color);\n",
              "    box-shadow: 0 1px 2px rgba(60, 64, 67, 0.3), 0 1px 3px 1px rgba(60, 64, 67, 0.15);\n",
              "    fill: var(--button-hover-fill-color);\n",
              "  }\n",
              "\n",
              "  .colab-df-quickchart-complete:disabled,\n",
              "  .colab-df-quickchart-complete:disabled:hover {\n",
              "    background-color: var(--disabled-bg-color);\n",
              "    fill: var(--disabled-fill-color);\n",
              "    box-shadow: none;\n",
              "  }\n",
              "\n",
              "  .colab-df-spinner {\n",
              "    border: 2px solid var(--fill-color);\n",
              "    border-color: transparent;\n",
              "    border-bottom-color: var(--fill-color);\n",
              "    animation:\n",
              "      spin 1s steps(1) infinite;\n",
              "  }\n",
              "\n",
              "  @keyframes spin {\n",
              "    0% {\n",
              "      border-color: transparent;\n",
              "      border-bottom-color: var(--fill-color);\n",
              "      border-left-color: var(--fill-color);\n",
              "    }\n",
              "    20% {\n",
              "      border-color: transparent;\n",
              "      border-left-color: var(--fill-color);\n",
              "      border-top-color: var(--fill-color);\n",
              "    }\n",
              "    30% {\n",
              "      border-color: transparent;\n",
              "      border-left-color: var(--fill-color);\n",
              "      border-top-color: var(--fill-color);\n",
              "      border-right-color: var(--fill-color);\n",
              "    }\n",
              "    40% {\n",
              "      border-color: transparent;\n",
              "      border-right-color: var(--fill-color);\n",
              "      border-top-color: var(--fill-color);\n",
              "    }\n",
              "    60% {\n",
              "      border-color: transparent;\n",
              "      border-right-color: var(--fill-color);\n",
              "    }\n",
              "    80% {\n",
              "      border-color: transparent;\n",
              "      border-right-color: var(--fill-color);\n",
              "      border-bottom-color: var(--fill-color);\n",
              "    }\n",
              "    90% {\n",
              "      border-color: transparent;\n",
              "      border-bottom-color: var(--fill-color);\n",
              "    }\n",
              "  }\n",
              "</style>\n",
              "\n",
              "  <script>\n",
              "    async function quickchart(key) {\n",
              "      const quickchartButtonEl =\n",
              "        document.querySelector('#' + key + ' button');\n",
              "      quickchartButtonEl.disabled = true;  // To prevent multiple clicks.\n",
              "      quickchartButtonEl.classList.add('colab-df-spinner');\n",
              "      try {\n",
              "        const charts = await google.colab.kernel.invokeFunction(\n",
              "            'suggestCharts', [key], {});\n",
              "      } catch (error) {\n",
              "        console.error('Error during call to suggestCharts:', error);\n",
              "      }\n",
              "      quickchartButtonEl.classList.remove('colab-df-spinner');\n",
              "      quickchartButtonEl.classList.add('colab-df-quickchart-complete');\n",
              "    }\n",
              "    (() => {\n",
              "      let quickchartButtonEl =\n",
              "        document.querySelector('#df-3fa5f786-6eb7-42b2-82ca-dd0b45617b87 button');\n",
              "      quickchartButtonEl.style.display =\n",
              "        google.colab.kernel.accessAllowed ? 'block' : 'none';\n",
              "    })();\n",
              "  </script>\n",
              "</div>\n",
              "    </div>\n",
              "  </div>\n"
            ]
          },
          "metadata": {},
          "execution_count": 96
        }
      ]
    },
    {
      "cell_type": "code",
      "source": [
        "df.to_csv('drive/MyDrive/Colab Notebooks/FICO1-12-23.csv')"
      ],
      "metadata": {
        "id": "-Nnl8aYtqxYq"
      },
      "execution_count": 97,
      "outputs": []
    },
    {
      "cell_type": "code",
      "source": [
        "!cd drive/MyDrive/Colab\\ Notebooks\n"
      ],
      "metadata": {
        "id": "qbYCqiuHqxbN"
      },
      "execution_count": null,
      "outputs": []
    },
    {
      "cell_type": "code",
      "source": [
        "df=  pd.read_csv('drive/MyDrive/Colab Notebooks/FICO1-12-23.csv')"
      ],
      "metadata": {
        "id": "RdhDryg7qxez"
      },
      "execution_count": 98,
      "outputs": []
    },
    {
      "cell_type": "code",
      "source": [
        "df.head()"
      ],
      "metadata": {
        "id": "mt7XDrnYuy8Z",
        "colab": {
          "base_uri": "https://localhost:8080/",
          "height": 206
        },
        "outputId": "d9898b84-40c2-415e-90c6-9d2d259daf01"
      },
      "execution_count": 99,
      "outputs": [
        {
          "output_type": "execute_result",
          "data": {
            "text/plain": [
              "  symbol                       date   close    high     low    open    volume  \\\n",
              "0   AAPL  2018-12-13 00:00:00+00:00  170.95  172.57  169.55  170.49  31897827   \n",
              "1   AAPL  2018-12-14 00:00:00+00:00  165.48  169.08  165.28  169.00  40703710   \n",
              "2   AAPL  2018-12-17 00:00:00+00:00  163.94  168.35  162.73  165.45  44287922   \n",
              "3   AAPL  2018-12-18 00:00:00+00:00  166.07  167.53  164.39  165.38  33841518   \n",
              "4   AAPL  2018-12-19 00:00:00+00:00  160.89  167.45  159.09  166.00  49047297   \n",
              "\n",
              "    adjClose    adjHigh     adjLow    adjOpen  adjVolume  divCash  splitFactor  \n",
              "0  41.018629  41.407341  40.682706  40.908255  127591308      0.0          1.0  \n",
              "1  39.706129  40.569932  39.658140  40.550736  162814840      0.0          1.0  \n",
              "2  39.336614  40.394772  39.046280  39.698931  177151688      0.0          1.0  \n",
              "3  39.847697  40.198017  39.444589  39.682135  135366072      0.0          1.0  \n",
              "4  38.604781  40.178821  38.172880  39.830901  196189188      0.0          1.0  "
            ],
            "text/html": [
              "\n",
              "  <div id=\"df-006384c3-46bb-499e-b0f4-27c7398d66c8\" class=\"colab-df-container\">\n",
              "    <div>\n",
              "<style scoped>\n",
              "    .dataframe tbody tr th:only-of-type {\n",
              "        vertical-align: middle;\n",
              "    }\n",
              "\n",
              "    .dataframe tbody tr th {\n",
              "        vertical-align: top;\n",
              "    }\n",
              "\n",
              "    .dataframe thead th {\n",
              "        text-align: right;\n",
              "    }\n",
              "</style>\n",
              "<table border=\"1\" class=\"dataframe\">\n",
              "  <thead>\n",
              "    <tr style=\"text-align: right;\">\n",
              "      <th></th>\n",
              "      <th>symbol</th>\n",
              "      <th>date</th>\n",
              "      <th>close</th>\n",
              "      <th>high</th>\n",
              "      <th>low</th>\n",
              "      <th>open</th>\n",
              "      <th>volume</th>\n",
              "      <th>adjClose</th>\n",
              "      <th>adjHigh</th>\n",
              "      <th>adjLow</th>\n",
              "      <th>adjOpen</th>\n",
              "      <th>adjVolume</th>\n",
              "      <th>divCash</th>\n",
              "      <th>splitFactor</th>\n",
              "    </tr>\n",
              "  </thead>\n",
              "  <tbody>\n",
              "    <tr>\n",
              "      <th>0</th>\n",
              "      <td>AAPL</td>\n",
              "      <td>2018-12-13 00:00:00+00:00</td>\n",
              "      <td>170.95</td>\n",
              "      <td>172.57</td>\n",
              "      <td>169.55</td>\n",
              "      <td>170.49</td>\n",
              "      <td>31897827</td>\n",
              "      <td>41.018629</td>\n",
              "      <td>41.407341</td>\n",
              "      <td>40.682706</td>\n",
              "      <td>40.908255</td>\n",
              "      <td>127591308</td>\n",
              "      <td>0.0</td>\n",
              "      <td>1.0</td>\n",
              "    </tr>\n",
              "    <tr>\n",
              "      <th>1</th>\n",
              "      <td>AAPL</td>\n",
              "      <td>2018-12-14 00:00:00+00:00</td>\n",
              "      <td>165.48</td>\n",
              "      <td>169.08</td>\n",
              "      <td>165.28</td>\n",
              "      <td>169.00</td>\n",
              "      <td>40703710</td>\n",
              "      <td>39.706129</td>\n",
              "      <td>40.569932</td>\n",
              "      <td>39.658140</td>\n",
              "      <td>40.550736</td>\n",
              "      <td>162814840</td>\n",
              "      <td>0.0</td>\n",
              "      <td>1.0</td>\n",
              "    </tr>\n",
              "    <tr>\n",
              "      <th>2</th>\n",
              "      <td>AAPL</td>\n",
              "      <td>2018-12-17 00:00:00+00:00</td>\n",
              "      <td>163.94</td>\n",
              "      <td>168.35</td>\n",
              "      <td>162.73</td>\n",
              "      <td>165.45</td>\n",
              "      <td>44287922</td>\n",
              "      <td>39.336614</td>\n",
              "      <td>40.394772</td>\n",
              "      <td>39.046280</td>\n",
              "      <td>39.698931</td>\n",
              "      <td>177151688</td>\n",
              "      <td>0.0</td>\n",
              "      <td>1.0</td>\n",
              "    </tr>\n",
              "    <tr>\n",
              "      <th>3</th>\n",
              "      <td>AAPL</td>\n",
              "      <td>2018-12-18 00:00:00+00:00</td>\n",
              "      <td>166.07</td>\n",
              "      <td>167.53</td>\n",
              "      <td>164.39</td>\n",
              "      <td>165.38</td>\n",
              "      <td>33841518</td>\n",
              "      <td>39.847697</td>\n",
              "      <td>40.198017</td>\n",
              "      <td>39.444589</td>\n",
              "      <td>39.682135</td>\n",
              "      <td>135366072</td>\n",
              "      <td>0.0</td>\n",
              "      <td>1.0</td>\n",
              "    </tr>\n",
              "    <tr>\n",
              "      <th>4</th>\n",
              "      <td>AAPL</td>\n",
              "      <td>2018-12-19 00:00:00+00:00</td>\n",
              "      <td>160.89</td>\n",
              "      <td>167.45</td>\n",
              "      <td>159.09</td>\n",
              "      <td>166.00</td>\n",
              "      <td>49047297</td>\n",
              "      <td>38.604781</td>\n",
              "      <td>40.178821</td>\n",
              "      <td>38.172880</td>\n",
              "      <td>39.830901</td>\n",
              "      <td>196189188</td>\n",
              "      <td>0.0</td>\n",
              "      <td>1.0</td>\n",
              "    </tr>\n",
              "  </tbody>\n",
              "</table>\n",
              "</div>\n",
              "    <div class=\"colab-df-buttons\">\n",
              "\n",
              "  <div class=\"colab-df-container\">\n",
              "    <button class=\"colab-df-convert\" onclick=\"convertToInteractive('df-006384c3-46bb-499e-b0f4-27c7398d66c8')\"\n",
              "            title=\"Convert this dataframe to an interactive table.\"\n",
              "            style=\"display:none;\">\n",
              "\n",
              "  <svg xmlns=\"http://www.w3.org/2000/svg\" height=\"24px\" viewBox=\"0 -960 960 960\">\n",
              "    <path d=\"M120-120v-720h720v720H120Zm60-500h600v-160H180v160Zm220 220h160v-160H400v160Zm0 220h160v-160H400v160ZM180-400h160v-160H180v160Zm440 0h160v-160H620v160ZM180-180h160v-160H180v160Zm440 0h160v-160H620v160Z\"/>\n",
              "  </svg>\n",
              "    </button>\n",
              "\n",
              "  <style>\n",
              "    .colab-df-container {\n",
              "      display:flex;\n",
              "      gap: 12px;\n",
              "    }\n",
              "\n",
              "    .colab-df-convert {\n",
              "      background-color: #E8F0FE;\n",
              "      border: none;\n",
              "      border-radius: 50%;\n",
              "      cursor: pointer;\n",
              "      display: none;\n",
              "      fill: #1967D2;\n",
              "      height: 32px;\n",
              "      padding: 0 0 0 0;\n",
              "      width: 32px;\n",
              "    }\n",
              "\n",
              "    .colab-df-convert:hover {\n",
              "      background-color: #E2EBFA;\n",
              "      box-shadow: 0px 1px 2px rgba(60, 64, 67, 0.3), 0px 1px 3px 1px rgba(60, 64, 67, 0.15);\n",
              "      fill: #174EA6;\n",
              "    }\n",
              "\n",
              "    .colab-df-buttons div {\n",
              "      margin-bottom: 4px;\n",
              "    }\n",
              "\n",
              "    [theme=dark] .colab-df-convert {\n",
              "      background-color: #3B4455;\n",
              "      fill: #D2E3FC;\n",
              "    }\n",
              "\n",
              "    [theme=dark] .colab-df-convert:hover {\n",
              "      background-color: #434B5C;\n",
              "      box-shadow: 0px 1px 3px 1px rgba(0, 0, 0, 0.15);\n",
              "      filter: drop-shadow(0px 1px 2px rgba(0, 0, 0, 0.3));\n",
              "      fill: #FFFFFF;\n",
              "    }\n",
              "  </style>\n",
              "\n",
              "    <script>\n",
              "      const buttonEl =\n",
              "        document.querySelector('#df-006384c3-46bb-499e-b0f4-27c7398d66c8 button.colab-df-convert');\n",
              "      buttonEl.style.display =\n",
              "        google.colab.kernel.accessAllowed ? 'block' : 'none';\n",
              "\n",
              "      async function convertToInteractive(key) {\n",
              "        const element = document.querySelector('#df-006384c3-46bb-499e-b0f4-27c7398d66c8');\n",
              "        const dataTable =\n",
              "          await google.colab.kernel.invokeFunction('convertToInteractive',\n",
              "                                                    [key], {});\n",
              "        if (!dataTable) return;\n",
              "\n",
              "        const docLinkHtml = 'Like what you see? Visit the ' +\n",
              "          '<a target=\"_blank\" href=https://colab.research.google.com/notebooks/data_table.ipynb>data table notebook</a>'\n",
              "          + ' to learn more about interactive tables.';\n",
              "        element.innerHTML = '';\n",
              "        dataTable['output_type'] = 'display_data';\n",
              "        await google.colab.output.renderOutput(dataTable, element);\n",
              "        const docLink = document.createElement('div');\n",
              "        docLink.innerHTML = docLinkHtml;\n",
              "        element.appendChild(docLink);\n",
              "      }\n",
              "    </script>\n",
              "  </div>\n",
              "\n",
              "\n",
              "<div id=\"df-648b07bd-6d6d-44ea-9d9f-6cd317d85634\">\n",
              "  <button class=\"colab-df-quickchart\" onclick=\"quickchart('df-648b07bd-6d6d-44ea-9d9f-6cd317d85634')\"\n",
              "            title=\"Suggest charts\"\n",
              "            style=\"display:none;\">\n",
              "\n",
              "<svg xmlns=\"http://www.w3.org/2000/svg\" height=\"24px\"viewBox=\"0 0 24 24\"\n",
              "     width=\"24px\">\n",
              "    <g>\n",
              "        <path d=\"M19 3H5c-1.1 0-2 .9-2 2v14c0 1.1.9 2 2 2h14c1.1 0 2-.9 2-2V5c0-1.1-.9-2-2-2zM9 17H7v-7h2v7zm4 0h-2V7h2v10zm4 0h-2v-4h2v4z\"/>\n",
              "    </g>\n",
              "</svg>\n",
              "  </button>\n",
              "\n",
              "<style>\n",
              "  .colab-df-quickchart {\n",
              "      --bg-color: #E8F0FE;\n",
              "      --fill-color: #1967D2;\n",
              "      --hover-bg-color: #E2EBFA;\n",
              "      --hover-fill-color: #174EA6;\n",
              "      --disabled-fill-color: #AAA;\n",
              "      --disabled-bg-color: #DDD;\n",
              "  }\n",
              "\n",
              "  [theme=dark] .colab-df-quickchart {\n",
              "      --bg-color: #3B4455;\n",
              "      --fill-color: #D2E3FC;\n",
              "      --hover-bg-color: #434B5C;\n",
              "      --hover-fill-color: #FFFFFF;\n",
              "      --disabled-bg-color: #3B4455;\n",
              "      --disabled-fill-color: #666;\n",
              "  }\n",
              "\n",
              "  .colab-df-quickchart {\n",
              "    background-color: var(--bg-color);\n",
              "    border: none;\n",
              "    border-radius: 50%;\n",
              "    cursor: pointer;\n",
              "    display: none;\n",
              "    fill: var(--fill-color);\n",
              "    height: 32px;\n",
              "    padding: 0;\n",
              "    width: 32px;\n",
              "  }\n",
              "\n",
              "  .colab-df-quickchart:hover {\n",
              "    background-color: var(--hover-bg-color);\n",
              "    box-shadow: 0 1px 2px rgba(60, 64, 67, 0.3), 0 1px 3px 1px rgba(60, 64, 67, 0.15);\n",
              "    fill: var(--button-hover-fill-color);\n",
              "  }\n",
              "\n",
              "  .colab-df-quickchart-complete:disabled,\n",
              "  .colab-df-quickchart-complete:disabled:hover {\n",
              "    background-color: var(--disabled-bg-color);\n",
              "    fill: var(--disabled-fill-color);\n",
              "    box-shadow: none;\n",
              "  }\n",
              "\n",
              "  .colab-df-spinner {\n",
              "    border: 2px solid var(--fill-color);\n",
              "    border-color: transparent;\n",
              "    border-bottom-color: var(--fill-color);\n",
              "    animation:\n",
              "      spin 1s steps(1) infinite;\n",
              "  }\n",
              "\n",
              "  @keyframes spin {\n",
              "    0% {\n",
              "      border-color: transparent;\n",
              "      border-bottom-color: var(--fill-color);\n",
              "      border-left-color: var(--fill-color);\n",
              "    }\n",
              "    20% {\n",
              "      border-color: transparent;\n",
              "      border-left-color: var(--fill-color);\n",
              "      border-top-color: var(--fill-color);\n",
              "    }\n",
              "    30% {\n",
              "      border-color: transparent;\n",
              "      border-left-color: var(--fill-color);\n",
              "      border-top-color: var(--fill-color);\n",
              "      border-right-color: var(--fill-color);\n",
              "    }\n",
              "    40% {\n",
              "      border-color: transparent;\n",
              "      border-right-color: var(--fill-color);\n",
              "      border-top-color: var(--fill-color);\n",
              "    }\n",
              "    60% {\n",
              "      border-color: transparent;\n",
              "      border-right-color: var(--fill-color);\n",
              "    }\n",
              "    80% {\n",
              "      border-color: transparent;\n",
              "      border-right-color: var(--fill-color);\n",
              "      border-bottom-color: var(--fill-color);\n",
              "    }\n",
              "    90% {\n",
              "      border-color: transparent;\n",
              "      border-bottom-color: var(--fill-color);\n",
              "    }\n",
              "  }\n",
              "</style>\n",
              "\n",
              "  <script>\n",
              "    async function quickchart(key) {\n",
              "      const quickchartButtonEl =\n",
              "        document.querySelector('#' + key + ' button');\n",
              "      quickchartButtonEl.disabled = true;  // To prevent multiple clicks.\n",
              "      quickchartButtonEl.classList.add('colab-df-spinner');\n",
              "      try {\n",
              "        const charts = await google.colab.kernel.invokeFunction(\n",
              "            'suggestCharts', [key], {});\n",
              "      } catch (error) {\n",
              "        console.error('Error during call to suggestCharts:', error);\n",
              "      }\n",
              "      quickchartButtonEl.classList.remove('colab-df-spinner');\n",
              "      quickchartButtonEl.classList.add('colab-df-quickchart-complete');\n",
              "    }\n",
              "    (() => {\n",
              "      let quickchartButtonEl =\n",
              "        document.querySelector('#df-648b07bd-6d6d-44ea-9d9f-6cd317d85634 button');\n",
              "      quickchartButtonEl.style.display =\n",
              "        google.colab.kernel.accessAllowed ? 'block' : 'none';\n",
              "    })();\n",
              "  </script>\n",
              "</div>\n",
              "    </div>\n",
              "  </div>\n"
            ]
          },
          "metadata": {},
          "execution_count": 99
        }
      ]
    },
    {
      "cell_type": "code",
      "source": [
        "target = df['close']"
      ],
      "metadata": {
        "id": "9VKhZR-lt7iE"
      },
      "execution_count": 100,
      "outputs": []
    },
    {
      "cell_type": "code",
      "source": [
        "plt.plot(target)"
      ],
      "metadata": {
        "id": "SXLNK7gpumBg",
        "colab": {
          "base_uri": "https://localhost:8080/",
          "height": 447
        },
        "outputId": "73d9fbba-d694-4553-d97b-21f8e915d69f"
      },
      "execution_count": 101,
      "outputs": [
        {
          "output_type": "execute_result",
          "data": {
            "text/plain": [
              "[<matplotlib.lines.Line2D at 0x7c336628c4c0>]"
            ]
          },
          "metadata": {},
          "execution_count": 101
        },
        {
          "output_type": "display_data",
          "data": {
            "text/plain": [
              "<Figure size 640x480 with 1 Axes>"
            ],
            "image/png": "[encoded data removed]"
          },
          "metadata": {}
        }
      ]
    },
    {
      "cell_type": "code",
      "source": [
        "from sklearn.preprocessing import MinMaxScaler\n",
        "import numpy as np\n",
        "\n",
        "scaler = MinMaxScaler(feature_range=(0,1))\n",
        "target = scaler.fit_transform(np.array(target).reshape(-1,1))"
      ],
      "metadata": {
        "id": "8ISxTH7Tu66H"
      },
      "execution_count": 102,
      "outputs": []
    },
    {
      "cell_type": "code",
      "source": [
        "train_sz = int(len(target)*0.7)\n",
        "test_sz = len(target)  - train_sz\n",
        "print(train_sz,test_sz, len(target))"
      ],
      "metadata": {
        "id": "zpHX67divsuW",
        "colab": {
          "base_uri": "https://localhost:8080/"
        },
        "outputId": "002d3b60-2c44-4300-dfad-7f1bb0e5cb19"
      },
      "execution_count": 103,
      "outputs": [
        {
          "output_type": "stream",
          "name": "stdout",
          "text": [
            "879 378 1257\n"
          ]
        }
      ]
    },
    {
      "cell_type": "code",
      "source": [
        "train_data, test_data = target[0:train_sz,:],target[train_sz:len(target),:]"
      ],
      "metadata": {
        "id": "FsHtKlV3vLa0"
      },
      "execution_count": 104,
      "outputs": []
    },
    {
      "cell_type": "code",
      "source": [
        "def create_dataset(data, time_step=1):\n",
        "  dataX, dataY = [], []\n",
        "  for i in range(len(data) - time_step-1):\n",
        "    a = data[i:(i+time_step),0]\n",
        "    dataX.append(a)\n",
        "    dataY.append(data[i+time_step,0])\n",
        "  return np.array(dataX), np.array(dataY)\n"
      ],
      "metadata": {
        "id": "nVDTKd-KvLeK"
      },
      "execution_count": 105,
      "outputs": []
    },
    {
      "cell_type": "code",
      "source": [
        "timestep = 100\n",
        "\n",
        "X_train , Y_train = create_dataset(train_data,timestep)\n",
        "X_test , Y_test = create_dataset(test_data,timestep)\n"
      ],
      "metadata": {
        "id": "FeQOY08Z0rFJ"
      },
      "execution_count": 106,
      "outputs": []
    },
    {
      "cell_type": "code",
      "source": [
        "X_train.shape"
      ],
      "metadata": {
        "id": "xTK3St1GvLi3",
        "colab": {
          "base_uri": "https://localhost:8080/"
        },
        "outputId": "47819bde-ac47-48e2-a4bd-7c4d126a68bf"
      },
      "execution_count": 107,
      "outputs": [
        {
          "output_type": "execute_result",
          "data": {
            "text/plain": [
              "(778, 100)"
            ]
          },
          "metadata": {},
          "execution_count": 107
        }
      ]
    },
    {
      "cell_type": "code",
      "source": [
        "X_train = X_train.reshape(X_train.shape[0],X_train.shape[1],1)\n",
        "X_test = X_test.reshape(X_test.shape[0],X_test.shape[1],1)\n"
      ],
      "metadata": {
        "id": "0VYtGc6vvLj6"
      },
      "execution_count": 108,
      "outputs": []
    },
    {
      "cell_type": "code",
      "source": [
        "from tensorflow.keras.models import Sequential\n",
        "from tensorflow.keras.layers import Dense\n",
        "from tensorflow.keras.layers import LSTM"
      ],
      "metadata": {
        "id": "WIgOZksfvL55"
      },
      "execution_count": 109,
      "outputs": []
    },
    {
      "cell_type": "code",
      "source": [
        "model = Sequential()\n",
        "model.add(LSTM(50,return_sequences=True, input_shape = (100,1)))\n",
        "model.add(LSTM(50, return_sequences=True))\n",
        "model.add(LSTM(50))\n",
        "model.add(Dense(1))\n",
        "model.compile(loss = 'mean_squared_error', optimizer = 'adam')\n"
      ],
      "metadata": {
        "id": "f2Xhr83y8yGs"
      },
      "execution_count": 110,
      "outputs": []
    },
    {
      "cell_type": "code",
      "source": [
        "model.summary()"
      ],
      "metadata": {
        "id": "BsqXAimPvL-b",
        "colab": {
          "base_uri": "https://localhost:8080/"
        },
        "outputId": "ad959ee2-4caf-40e2-b95e-bbee367f66fe"
      },
      "execution_count": 111,
      "outputs": [
        {
          "output_type": "stream",
          "name": "stdout",
          "text": [
            "Model: \"sequential_1\"\n",
            "_________________________________________________________________\n",
            " Layer (type)                Output Shape              Param #   \n",
            "=================================================================\n",
            " lstm_3 (LSTM)               (None, 100, 50)           10400     \n",
            "                                                                 \n",
            " lstm_4 (LSTM)               (None, 100, 50)           20200     \n",
            "                                                                 \n",
            " lstm_5 (LSTM)               (None, 50)                20200     \n",
            "                                                                 \n",
            " dense_1 (Dense)             (None, 1)                 51        \n",
            "                                                                 \n",
            "=================================================================\n",
            "Total params: 50851 (198.64 KB)\n",
            "Trainable params: 50851 (198.64 KB)\n",
            "Non-trainable params: 0 (0.00 Byte)\n",
            "_________________________________________________________________\n"
          ]
        }
      ]
    },
    {
      "cell_type": "code",
      "source": [
        "model.fit(X_train,Y_train, validation_data= (X_test, Y_test), epochs= 100, batch_size= 64, verbose =1)"
      ],
      "metadata": {
        "id": "HImCl271vL__",
        "colab": {
          "base_uri": "https://localhost:8080/"
        },
        "outputId": "ebfc87b4-cf9a-4d64-f3f2-ba6bce886bb8"
      },
      "execution_count": 112,
      "outputs": [
        {
          "output_type": "stream",
          "name": "stdout",
          "text": [
            "Epoch 1/100\n",
            "13/13 [==============================] - 6s 137ms/step - loss: 0.0346 - val_loss: 0.0010\n",
            "Epoch 2/100\n",
            "13/13 [==============================] - 0s 19ms/step - loss: 0.0173 - val_loss: 0.0047\n",
            "Epoch 3/100\n",
            "13/13 [==============================] - 0s 18ms/step - loss: 0.0111 - val_loss: 3.0119e-04\n",
            "Epoch 4/100\n",
            "13/13 [==============================] - 0s 19ms/step - loss: 0.0088 - val_loss: 0.0013\n",
            "Epoch 5/100\n",
            "13/13 [==============================] - 0s 18ms/step - loss: 0.0085 - val_loss: 0.0010\n",
            "Epoch 6/100\n",
            "13/13 [==============================] - 0s 20ms/step - loss: 0.0079 - val_loss: 8.2439e-04\n",
            "Epoch 7/100\n",
            "13/13 [==============================] - 0s 19ms/step - loss: 0.0069 - val_loss: 2.6900e-04\n",
            "Epoch 8/100\n",
            "13/13 [==============================] - 0s 20ms/step - loss: 0.0069 - val_loss: 3.8184e-04\n",
            "Epoch 9/100\n",
            "13/13 [==============================] - 0s 18ms/step - loss: 0.0061 - val_loss: 2.2104e-04\n",
            "Epoch 10/100\n",
            "13/13 [==============================] - 0s 17ms/step - loss: 0.0048 - val_loss: 4.5686e-04\n",
            "Epoch 11/100\n",
            "13/13 [==============================] - 0s 18ms/step - loss: 0.0043 - val_loss: 3.3720e-04\n",
            "Epoch 12/100\n",
            "13/13 [==============================] - 0s 26ms/step - loss: 0.0039 - val_loss: 2.8861e-04\n",
            "Epoch 13/100\n",
            "13/13 [==============================] - 0s 26ms/step - loss: 0.0032 - val_loss: 6.6494e-04\n",
            "Epoch 14/100\n",
            "13/13 [==============================] - 0s 26ms/step - loss: 0.0039 - val_loss: 2.7793e-04\n",
            "Epoch 15/100\n",
            "13/13 [==============================] - 0s 27ms/step - loss: 0.0036 - val_loss: 4.2355e-04\n",
            "Epoch 16/100\n",
            "13/13 [==============================] - 0s 25ms/step - loss: 0.0027 - val_loss: 2.5603e-04\n",
            "Epoch 17/100\n",
            "13/13 [==============================] - 0s 24ms/step - loss: 0.0027 - val_loss: 2.9098e-04\n",
            "Epoch 18/100\n",
            "13/13 [==============================] - 0s 26ms/step - loss: 0.0025 - val_loss: 2.2155e-04\n",
            "Epoch 19/100\n",
            "13/13 [==============================] - 0s 24ms/step - loss: 0.0025 - val_loss: 2.0026e-04\n",
            "Epoch 20/100\n",
            "13/13 [==============================] - 0s 27ms/step - loss: 0.0023 - val_loss: 4.5178e-04\n",
            "Epoch 21/100\n",
            "13/13 [==============================] - 0s 24ms/step - loss: 0.0021 - val_loss: 2.4455e-04\n",
            "Epoch 22/100\n",
            "13/13 [==============================] - 0s 23ms/step - loss: 0.0021 - val_loss: 2.3918e-04\n",
            "Epoch 23/100\n",
            "13/13 [==============================] - 0s 23ms/step - loss: 0.0022 - val_loss: 2.1299e-04\n",
            "Epoch 24/100\n",
            "13/13 [==============================] - 0s 24ms/step - loss: 0.0022 - val_loss: 3.1165e-04\n",
            "Epoch 25/100\n",
            "13/13 [==============================] - 0s 25ms/step - loss: 0.0043 - val_loss: 2.2004e-04\n",
            "Epoch 26/100\n",
            "13/13 [==============================] - 0s 25ms/step - loss: 0.0054 - val_loss: 0.0014\n",
            "Epoch 27/100\n",
            "13/13 [==============================] - 0s 23ms/step - loss: 0.0040 - val_loss: 3.5521e-04\n",
            "Epoch 28/100\n",
            "13/13 [==============================] - 0s 24ms/step - loss: 0.0025 - val_loss: 2.3644e-04\n",
            "Epoch 29/100\n",
            "13/13 [==============================] - 0s 24ms/step - loss: 0.0021 - val_loss: 2.0396e-04\n",
            "Epoch 30/100\n",
            "13/13 [==============================] - 0s 23ms/step - loss: 0.0020 - val_loss: 2.4692e-04\n",
            "Epoch 31/100\n",
            "13/13 [==============================] - 0s 17ms/step - loss: 0.0018 - val_loss: 1.9631e-04\n",
            "Epoch 32/100\n",
            "13/13 [==============================] - 0s 17ms/step - loss: 0.0018 - val_loss: 1.9151e-04\n",
            "Epoch 33/100\n",
            "13/13 [==============================] - 0s 20ms/step - loss: 0.0019 - val_loss: 2.6635e-04\n",
            "Epoch 34/100\n",
            "13/13 [==============================] - 0s 20ms/step - loss: 0.0018 - val_loss: 2.2922e-04\n",
            "Epoch 35/100\n",
            "13/13 [==============================] - 0s 18ms/step - loss: 0.0023 - val_loss: 2.3194e-04\n",
            "Epoch 36/100\n",
            "13/13 [==============================] - 0s 20ms/step - loss: 0.0019 - val_loss: 1.8634e-04\n",
            "Epoch 37/100\n",
            "13/13 [==============================] - 0s 17ms/step - loss: 0.0016 - val_loss: 2.1520e-04\n",
            "Epoch 38/100\n",
            "13/13 [==============================] - 0s 16ms/step - loss: 0.0019 - val_loss: 1.8506e-04\n",
            "Epoch 39/100\n",
            "13/13 [==============================] - 0s 17ms/step - loss: 0.0016 - val_loss: 1.9083e-04\n",
            "Epoch 40/100\n",
            "13/13 [==============================] - 0s 17ms/step - loss: 0.0017 - val_loss: 1.8841e-04\n",
            "Epoch 41/100\n",
            "13/13 [==============================] - 0s 18ms/step - loss: 0.0018 - val_loss: 3.7052e-04\n",
            "Epoch 42/100\n",
            "13/13 [==============================] - 0s 17ms/step - loss: 0.0048 - val_loss: 1.8379e-04\n",
            "Epoch 43/100\n",
            "13/13 [==============================] - 0s 18ms/step - loss: 0.0035 - val_loss: 0.0010\n",
            "Epoch 44/100\n",
            "13/13 [==============================] - 0s 18ms/step - loss: 0.0033 - val_loss: 2.8806e-04\n",
            "Epoch 45/100\n",
            "13/13 [==============================] - 0s 18ms/step - loss: 0.0029 - val_loss: 1.7825e-04\n",
            "Epoch 46/100\n",
            "13/13 [==============================] - 0s 17ms/step - loss: 0.0026 - val_loss: 2.0170e-04\n",
            "Epoch 47/100\n",
            "13/13 [==============================] - 0s 17ms/step - loss: 0.0025 - val_loss: 2.0898e-04\n",
            "Epoch 48/100\n",
            "13/13 [==============================] - 0s 19ms/step - loss: 0.0020 - val_loss: 2.3345e-04\n",
            "Epoch 49/100\n",
            "13/13 [==============================] - 0s 21ms/step - loss: 0.0015 - val_loss: 1.8298e-04\n",
            "Epoch 50/100\n",
            "13/13 [==============================] - 0s 18ms/step - loss: 0.0016 - val_loss: 1.7901e-04\n",
            "Epoch 51/100\n",
            "13/13 [==============================] - 0s 17ms/step - loss: 0.0015 - val_loss: 2.0011e-04\n",
            "Epoch 52/100\n",
            "13/13 [==============================] - 0s 18ms/step - loss: 0.0014 - val_loss: 2.7915e-04\n",
            "Epoch 53/100\n",
            "13/13 [==============================] - 0s 19ms/step - loss: 0.0019 - val_loss: 4.2078e-04\n",
            "Epoch 54/100\n",
            "13/13 [==============================] - 0s 17ms/step - loss: 0.0023 - val_loss: 4.2941e-04\n",
            "Epoch 55/100\n",
            "13/13 [==============================] - 0s 16ms/step - loss: 0.0016 - val_loss: 1.8517e-04\n",
            "Epoch 56/100\n",
            "13/13 [==============================] - 0s 19ms/step - loss: 0.0016 - val_loss: 1.8095e-04\n",
            "Epoch 57/100\n",
            "13/13 [==============================] - 0s 17ms/step - loss: 0.0013 - val_loss: 1.8813e-04\n",
            "Epoch 58/100\n",
            "13/13 [==============================] - 0s 17ms/step - loss: 0.0014 - val_loss: 2.9593e-04\n",
            "Epoch 59/100\n",
            "13/13 [==============================] - 0s 16ms/step - loss: 0.0013 - val_loss: 2.6017e-04\n",
            "Epoch 60/100\n",
            "13/13 [==============================] - 0s 17ms/step - loss: 0.0013 - val_loss: 2.1565e-04\n",
            "Epoch 61/100\n",
            "13/13 [==============================] - 0s 17ms/step - loss: 0.0012 - val_loss: 1.8296e-04\n",
            "Epoch 62/100\n",
            "13/13 [==============================] - 0s 18ms/step - loss: 0.0011 - val_loss: 1.9119e-04\n",
            "Epoch 63/100\n",
            "13/13 [==============================] - 0s 17ms/step - loss: 0.0013 - val_loss: 1.9051e-04\n",
            "Epoch 64/100\n",
            "13/13 [==============================] - 0s 20ms/step - loss: 0.0013 - val_loss: 1.8664e-04\n",
            "Epoch 65/100\n",
            "13/13 [==============================] - 0s 20ms/step - loss: 0.0013 - val_loss: 1.8483e-04\n",
            "Epoch 66/100\n",
            "13/13 [==============================] - 0s 17ms/step - loss: 0.0030 - val_loss: 6.4454e-04\n",
            "Epoch 67/100\n",
            "13/13 [==============================] - 0s 21ms/step - loss: 0.0022 - val_loss: 2.0952e-04\n",
            "Epoch 68/100\n",
            "13/13 [==============================] - 0s 18ms/step - loss: 0.0028 - val_loss: 4.2580e-04\n",
            "Epoch 69/100\n",
            "13/13 [==============================] - 0s 16ms/step - loss: 0.0024 - val_loss: 2.5285e-04\n",
            "Epoch 70/100\n",
            "13/13 [==============================] - 0s 18ms/step - loss: 0.0021 - val_loss: 1.7745e-04\n",
            "Epoch 71/100\n",
            "13/13 [==============================] - 0s 17ms/step - loss: 0.0018 - val_loss: 1.8258e-04\n",
            "Epoch 72/100\n",
            "13/13 [==============================] - 0s 20ms/step - loss: 0.0017 - val_loss: 2.4113e-04\n",
            "Epoch 73/100\n",
            "13/13 [==============================] - 0s 22ms/step - loss: 0.0013 - val_loss: 2.0089e-04\n",
            "Epoch 74/100\n",
            "13/13 [==============================] - 0s 27ms/step - loss: 0.0013 - val_loss: 2.2423e-04\n",
            "Epoch 75/100\n",
            "13/13 [==============================] - 0s 25ms/step - loss: 0.0020 - val_loss: 2.5319e-04\n",
            "Epoch 76/100\n",
            "13/13 [==============================] - 0s 24ms/step - loss: 0.0062 - val_loss: 6.9988e-04\n",
            "Epoch 77/100\n",
            "13/13 [==============================] - 0s 25ms/step - loss: 0.0040 - val_loss: 1.8296e-04\n",
            "Epoch 78/100\n",
            "13/13 [==============================] - 0s 25ms/step - loss: 0.0028 - val_loss: 1.6882e-04\n",
            "Epoch 79/100\n",
            "13/13 [==============================] - 0s 26ms/step - loss: 0.0027 - val_loss: 3.2834e-04\n",
            "Epoch 80/100\n",
            "13/13 [==============================] - 0s 23ms/step - loss: 0.0030 - val_loss: 4.7079e-04\n",
            "Epoch 81/100\n",
            "13/13 [==============================] - 0s 25ms/step - loss: 0.0024 - val_loss: 2.7111e-04\n",
            "Epoch 82/100\n",
            "13/13 [==============================] - 0s 24ms/step - loss: 0.0017 - val_loss: 1.6796e-04\n",
            "Epoch 83/100\n",
            "13/13 [==============================] - 0s 25ms/step - loss: 0.0016 - val_loss: 2.3401e-04\n",
            "Epoch 84/100\n",
            "13/13 [==============================] - 0s 25ms/step - loss: 0.0020 - val_loss: 1.8124e-04\n",
            "Epoch 85/100\n",
            "13/13 [==============================] - 0s 23ms/step - loss: 0.0017 - val_loss: 1.6727e-04\n",
            "Epoch 86/100\n",
            "13/13 [==============================] - 0s 26ms/step - loss: 0.0013 - val_loss: 2.4562e-04\n",
            "Epoch 87/100\n",
            "13/13 [==============================] - 0s 24ms/step - loss: 0.0015 - val_loss: 1.7442e-04\n",
            "Epoch 88/100\n",
            "13/13 [==============================] - 0s 24ms/step - loss: 0.0016 - val_loss: 1.7174e-04\n",
            "Epoch 89/100\n",
            "13/13 [==============================] - 0s 24ms/step - loss: 0.0017 - val_loss: 2.0128e-04\n",
            "Epoch 90/100\n",
            "13/13 [==============================] - 0s 25ms/step - loss: 0.0014 - val_loss: 1.6470e-04\n",
            "Epoch 91/100\n",
            "13/13 [==============================] - 0s 25ms/step - loss: 0.0016 - val_loss: 3.6371e-04\n",
            "Epoch 92/100\n",
            "13/13 [==============================] - 0s 23ms/step - loss: 0.0015 - val_loss: 2.4928e-04\n",
            "Epoch 93/100\n",
            "13/13 [==============================] - 0s 18ms/step - loss: 0.0015 - val_loss: 2.1266e-04\n",
            "Epoch 94/100\n",
            "13/13 [==============================] - 0s 17ms/step - loss: 0.0016 - val_loss: 1.8033e-04\n",
            "Epoch 95/100\n",
            "13/13 [==============================] - 0s 17ms/step - loss: 0.0025 - val_loss: 2.2281e-04\n",
            "Epoch 96/100\n",
            "13/13 [==============================] - 0s 17ms/step - loss: 0.0019 - val_loss: 2.0500e-04\n",
            "Epoch 97/100\n",
            "13/13 [==============================] - 0s 17ms/step - loss: 0.0016 - val_loss: 1.7656e-04\n",
            "Epoch 98/100\n",
            "13/13 [==============================] - 0s 17ms/step - loss: 0.0017 - val_loss: 1.9346e-04\n",
            "Epoch 99/100\n",
            "13/13 [==============================] - 0s 18ms/step - loss: 0.0033 - val_loss: 2.8161e-04\n",
            "Epoch 100/100\n",
            "13/13 [==============================] - 0s 17ms/step - loss: 0.0038 - val_loss: 1.6516e-04\n"
          ]
        },
        {
          "output_type": "execute_result",
          "data": {
            "text/plain": [
              "<keras.src.callbacks.History at 0x7c336698e8c0>"
            ]
          },
          "metadata": {},
          "execution_count": 112
        }
      ]
    },
    {
      "cell_type": "code",
      "source": [
        "train_predict = model.predict(X_train)\n",
        "test_predict = model.predict(X_test)"
      ],
      "metadata": {
        "id": "sRiWQYpf-2iK",
        "colab": {
          "base_uri": "https://localhost:8080/"
        },
        "outputId": "6f26e31d-0311-4cd8-bf1f-2a55a14b09ad"
      },
      "execution_count": 113,
      "outputs": [
        {
          "output_type": "stream",
          "name": "stdout",
          "text": [
            "25/25 [==============================] - 1s 9ms/step\n",
            "9/9 [==============================] - 0s 6ms/step\n"
          ]
        }
      ]
    },
    {
      "cell_type": "code",
      "source": [
        "train_predict = scaler.inverse_transform(train_predict)\n",
        "test_predict = scaler.inverse_transform(test_predict)"
      ],
      "metadata": {
        "id": "9W3RUJIO_pJi"
      },
      "execution_count": 114,
      "outputs": []
    },
    {
      "cell_type": "code",
      "source": [
        "from math import sqrt\n",
        "from sklearn.metrics import mean_squared_error\n",
        "sqrt(mean_squared_error(Y_train,train_predict))"
      ],
      "metadata": {
        "id": "i3l-kRdFADD0",
        "colab": {
          "base_uri": "https://localhost:8080/"
        },
        "outputId": "4a6ee9df-fb7c-4728-aa6f-3f9ac25d5bac"
      },
      "execution_count": 115,
      "outputs": [
        {
          "output_type": "execute_result",
          "data": {
            "text/plain": [
              "214.1521820437094"
            ]
          },
          "metadata": {},
          "execution_count": 115
        }
      ]
    },
    {
      "cell_type": "code",
      "source": [
        "sqrt(mean_squared_error(Y_test,test_predict))"
      ],
      "metadata": {
        "id": "8Q6sRiQdADCn",
        "colab": {
          "base_uri": "https://localhost:8080/"
        },
        "outputId": "37e1c1df-8498-46ef-ffb8-0d1f8f1cb4d5"
      },
      "execution_count": 116,
      "outputs": [
        {
          "output_type": "execute_result",
          "data": {
            "text/plain": [
              "166.98056651594993"
            ]
          },
          "metadata": {},
          "execution_count": 116
        }
      ]
    },
    {
      "cell_type": "code",
      "source": [
        "look_back = 100\n",
        "trainpredplot = np.empty_like(target)\n",
        "trainpredplot[:,:] = np.nan\n",
        "trainpredplot[look_back:len(train_predict)+look_back,:] = train_predict\n",
        "\n",
        "\n",
        "testpredplot = np.empty_like(target)\n",
        "testpredplot[:,:] = np.nan\n",
        "testpredplot[len(train_predict)+(look_back*2)+1:len(target)-1,:] = test_predict"
      ],
      "metadata": {
        "id": "fEUD2dTAAC4W"
      },
      "execution_count": 117,
      "outputs": []
    },
    {
      "cell_type": "code",
      "source": [
        "plt.plot(scaler.inverse_transform(target))\n",
        "plt.plot(trainpredplot)\n",
        "plt.plot(testpredplot)\n",
        "plt.show()"
      ],
      "metadata": {
        "id": "3KOTvYhEAC3S",
        "colab": {
          "base_uri": "https://localhost:8080/",
          "height": 430
        },
        "outputId": "4f6d762f-f977-4409-aca6-36d160396544"
      },
      "execution_count": 118,
      "outputs": [
        {
          "output_type": "display_data",
          "data": {
            "text/plain": [
              "<Figure size 640x480 with 1 Axes>"
            ],
            "image/png": "[encoded data removed]"
          },
          "metadata": {}
        }
      ]
    },
    {
      "cell_type": "code",
      "source": [
        "len(test_data)"
      ],
      "metadata": {
        "id": "rLSy1V8xACyk",
        "colab": {
          "base_uri": "https://localhost:8080/"
        },
        "outputId": "035c8d4b-83aa-4068-9458-893a1b606e97"
      },
      "execution_count": 119,
      "outputs": [
        {
          "output_type": "execute_result",
          "data": {
            "text/plain": [
              "378"
            ]
          },
          "metadata": {},
          "execution_count": 119
        }
      ]
    },
    {
      "cell_type": "code",
      "source": [
        "x_input = test_data[277:].reshape(1,-1)\n",
        "x_input.shape\n",
        "type(x_input)"
      ],
      "metadata": {
        "id": "lsML01JeFMR7",
        "colab": {
          "base_uri": "https://localhost:8080/"
        },
        "outputId": "414bca0f-d6e8-4250-c167-8c24a8e88268"
      },
      "execution_count": 120,
      "outputs": [
        {
          "output_type": "execute_result",
          "data": {
            "text/plain": [
              "numpy.ndarray"
            ]
          },
          "metadata": {},
          "execution_count": 120
        }
      ]
    },
    {
      "cell_type": "code",
      "source": [
        "temp_input = list(x_input)\n",
        "temp_input = temp_input[0].tolist()"
      ],
      "metadata": {
        "id": "HoxuzHkXFcZ-"
      },
      "execution_count": 121,
      "outputs": []
    },
    {
      "cell_type": "code",
      "source": [
        "len(temp_input)"
      ],
      "metadata": {
        "colab": {
          "base_uri": "https://localhost:8080/"
        },
        "id": "f9MSfQsFp1uO",
        "outputId": "b0106013-b553-4957-d3ed-4f6cae2ebad4"
      },
      "execution_count": 122,
      "outputs": [
        {
          "output_type": "execute_result",
          "data": {
            "text/plain": [
              "101"
            ]
          },
          "metadata": {},
          "execution_count": 122
        }
      ]
    },
    {
      "cell_type": "code",
      "source": [
        "n_steps = 100\n",
        "i=0\n",
        "lst_output= []\n",
        "#x_input = np.asarray(x_input)\n",
        "\n",
        "while(i<30):\n",
        "  if(len(temp_input)>100):\n",
        "    x_input = np.array(temp_input[1:])\n",
        "    print('{} day'.format(i))\n",
        "    x_input = x_input.reshape(1,-1)\n",
        "    x_input = x_input.reshape((1,n_steps,1))\n",
        "\n",
        "    yhat = model.predict(x_input,verbose =0)\n",
        "    print('{} day'.format(i))\n",
        "    temp_input.extend(yhat[0].tolist())\n",
        "    temp_input=temp_input[1:]\n",
        "    print(len(temp_input))\n",
        "    lst_output.extend(yhat.tolist())\n",
        "    i=i+1\n",
        "  else:\n",
        "    x_input =  x_input.reshape((1,n_steps,1))\n",
        "    yhat = model.predict(x_input,verbose =0)\n",
        "    print(yhat[0])\n",
        "    temp_input.extend(yhat[0].tolist())\n",
        "    print(len(temp_input))\n",
        "    lst_output.extend(yhat.tolist())\n",
        "    i=i+1\n",
        "\n",
        "print(lst_output)\n"
      ],
      "metadata": {
        "id": "RiTGinJjFk3K",
        "colab": {
          "base_uri": "https://localhost:8080/"
        },
        "outputId": "0fda5545-6b0e-429c-9a14-42c9b23acf54"
      },
      "execution_count": 123,
      "outputs": [
        {
          "output_type": "stream",
          "name": "stdout",
          "text": [
            "0 day\n",
            "0 day\n",
            "101\n",
            "1 day\n",
            "1 day\n",
            "101\n",
            "2 day\n",
            "2 day\n",
            "101\n",
            "3 day\n",
            "3 day\n",
            "101\n",
            "4 day\n",
            "4 day\n",
            "101\n",
            "5 day\n",
            "5 day\n",
            "101\n",
            "6 day\n",
            "6 day\n",
            "101\n",
            "7 day\n",
            "7 day\n",
            "101\n",
            "8 day\n",
            "8 day\n",
            "101\n",
            "9 day\n",
            "9 day\n",
            "101\n",
            "10 day\n",
            "10 day\n",
            "101\n",
            "11 day\n",
            "11 day\n",
            "101\n",
            "12 day\n",
            "12 day\n",
            "101\n",
            "13 day\n",
            "13 day\n",
            "101\n",
            "14 day\n",
            "14 day\n",
            "101\n",
            "15 day\n",
            "15 day\n",
            "101\n",
            "16 day\n",
            "16 day\n",
            "101\n",
            "17 day\n",
            "17 day\n",
            "101\n",
            "18 day\n",
            "18 day\n",
            "101\n",
            "19 day\n",
            "19 day\n",
            "101\n",
            "20 day\n",
            "20 day\n",
            "101\n",
            "21 day\n",
            "21 day\n",
            "101\n",
            "22 day\n",
            "22 day\n",
            "101\n",
            "23 day\n",
            "23 day\n",
            "101\n",
            "24 day\n",
            "24 day\n",
            "101\n",
            "25 day\n",
            "25 day\n",
            "101\n",
            "26 day\n",
            "26 day\n",
            "101\n",
            "27 day\n",
            "27 day\n",
            "101\n",
            "28 day\n",
            "28 day\n",
            "101\n",
            "29 day\n",
            "29 day\n",
            "101\n",
            "[[0.21602806448936462], [0.2169986367225647], [0.21776941418647766], [0.2183988094329834], [0.21894437074661255], [0.21944746375083923], [0.21993324160575867], [0.22041523456573486], [0.22089973092079163], [0.2213892638683319], [0.22188454866409302], [0.22238558530807495], [0.22289222478866577], [0.22340428829193115], [0.22392159700393677], [0.22444409132003784], [0.2249717116355896], [0.2255043387413025], [0.22604194283485413], [0.22658443450927734], [0.2271316945552826], [0.2276836633682251], [0.22824019193649292], [0.2288011908531189], [0.22936663031578064], [0.2299363613128662], [0.2305103838443756], [0.23108860850334167], [0.23167109489440918], [0.23225778341293335]]\n"
          ]
        }
      ]
    },
    {
      "cell_type": "code",
      "source": [
        "day_new = np.arange(1,101)\n",
        "day_pred  = np.arange(101,131)\n"
      ],
      "metadata": {
        "id": "M-hcXI9jG6k3"
      },
      "execution_count": 124,
      "outputs": []
    },
    {
      "cell_type": "code",
      "source": [
        "len(target)"
      ],
      "metadata": {
        "colab": {
          "base_uri": "https://localhost:8080/"
        },
        "id": "78WUxtMdsPa8",
        "outputId": "0d501c88-fd91-4c54-ec8b-5b8a65620f58"
      },
      "execution_count": 127,
      "outputs": [
        {
          "output_type": "execute_result",
          "data": {
            "text/plain": [
              "1257"
            ]
          },
          "metadata": {},
          "execution_count": 127
        }
      ]
    },
    {
      "cell_type": "code",
      "source": [
        "df2 = target.tolist()\n",
        "df2.extend(lst_output)\n"
      ],
      "metadata": {
        "id": "Nh7yVQDjG-uF"
      },
      "execution_count": 125,
      "outputs": []
    },
    {
      "cell_type": "code",
      "source": [
        "plt.plot(day_new,scaler.inverse_transform(target[1157:]))\n",
        "plt.plot(day_pred,scaler.inverse_transform(lst_output))"
      ],
      "metadata": {
        "id": "JM1TCq0mG-oH",
        "colab": {
          "base_uri": "https://localhost:8080/",
          "height": 447
        },
        "outputId": "33d24c25-c459-4388-8e6b-f9cdfa995a77"
      },
      "execution_count": 128,
      "outputs": [
        {
          "output_type": "execute_result",
          "data": {
            "text/plain": [
              "[<matplotlib.lines.Line2D at 0x7c3366b4e3e0>]"
            ]
          },
          "metadata": {},
          "execution_count": 128
        },
        {
          "output_type": "display_data",
          "data": {
            "text/plain": [
              "<Figure size 640x480 with 1 Axes>"
            ],
            "image/png": "[encoded data removed]"
          },
          "metadata": {}
        }
      ]
    }
  ]
}